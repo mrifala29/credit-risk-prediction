{
 "cells": [
  {
   "cell_type": "code",
   "execution_count": 1,
   "id": "2925c423",
   "metadata": {},
   "outputs": [
    {
     "ename": "ModuleNotFoundError",
     "evalue": "No module named 'matplotlib'",
     "output_type": "error",
     "traceback": [
      "\u001b[31m---------------------------------------------------------------------------\u001b[39m",
      "\u001b[31mModuleNotFoundError\u001b[39m                       Traceback (most recent call last)",
      "\u001b[36mCell\u001b[39m\u001b[36m \u001b[39m\u001b[32mIn[1]\u001b[39m\u001b[32m, line 3\u001b[39m\n\u001b[32m      1\u001b[39m \u001b[38;5;66;03m# src/eda.py\u001b[39;00m\n\u001b[32m      2\u001b[39m \u001b[38;5;28;01mimport\u001b[39;00m\u001b[38;5;250m \u001b[39m\u001b[34;01mpandas\u001b[39;00m\u001b[38;5;250m \u001b[39m\u001b[38;5;28;01mas\u001b[39;00m\u001b[38;5;250m \u001b[39m\u001b[34;01mpd\u001b[39;00m\n\u001b[32m----> \u001b[39m\u001b[32m3\u001b[39m \u001b[38;5;28;01mimport\u001b[39;00m\u001b[38;5;250m \u001b[39m\u001b[34;01mmatplotlib\u001b[39;00m\u001b[34;01m.\u001b[39;00m\u001b[34;01mpyplot\u001b[39;00m\u001b[38;5;250m \u001b[39m\u001b[38;5;28;01mas\u001b[39;00m\u001b[38;5;250m \u001b[39m\u001b[34;01mplt\u001b[39;00m\n\u001b[32m      4\u001b[39m \u001b[38;5;28;01mimport\u001b[39;00m\u001b[38;5;250m \u001b[39m\u001b[34;01mseaborn\u001b[39;00m\u001b[38;5;250m \u001b[39m\u001b[38;5;28;01mas\u001b[39;00m\u001b[38;5;250m \u001b[39m\u001b[34;01msns\u001b[39;00m\n\u001b[32m      5\u001b[39m \u001b[38;5;28;01mfrom\u001b[39;00m\u001b[38;5;250m \u001b[39m\u001b[34;01msrc\u001b[39;00m\u001b[34;01m.\u001b[39;00m\u001b[34;01mdata_loader\u001b[39;00m\u001b[38;5;250m \u001b[39m\u001b[38;5;28;01mimport\u001b[39;00m DataLoader  \u001b[38;5;66;03m# <--- pakai class DataLoader\u001b[39;00m\n",
      "\u001b[31mModuleNotFoundError\u001b[39m: No module named 'matplotlib'"
     ]
    }
   ],
   "source": [
    "# src/eda.py\n",
    "import pandas as pd\n",
    "import matplotlib.pyplot as plt\n",
    "import seaborn as sns\n",
    "from src.data_loader import DataLoader  # <--- pakai class DataLoader"
   ]
  },
  {
   "cell_type": "code",
   "execution_count": null,
   "id": "840da9c4",
   "metadata": {},
   "outputs": [],
   "source": [
    "def summary_stats(df: pd.DataFrame):\n",
    "    print(\"Shape:\", df.shape)\n",
    "    print(\"\\nInfo:\")\n",
    "    print(df.info())\n",
    "    print(\"\\nMissing values:\")\n",
    "    print(df.isnull().sum())\n",
    "    print(\"\\nDescriptive stats (numerical):\")\n",
    "    print(df.describe().T)\n",
    "\n",
    "def plot_distributions(df: pd.DataFrame, cols: list):\n",
    "    for col in cols:\n",
    "        fig, axes = plt.subplots(1, 2, figsize=(12, 4))\n",
    "        sns.histplot(df[col], kde=True, ax=axes[0])\n",
    "        axes[0].set_title(f\"Distribution of {col}\")\n",
    "        sns.boxplot(x=df[col], ax=axes[1])\n",
    "        axes[1].set_title(f\"Boxplot of {col}\")\n",
    "        plt.tight_layout()\n",
    "        plt.show()\n",
    "\n",
    "def plot_correlation(df: pd.DataFrame):\n",
    "    plt.figure(figsize=(10, 6))\n",
    "    corr = df.corr(numeric_only=True)\n",
    "    sns.heatmap(corr, annot=True, cmap=\"coolwarm\", fmt=\".2f\")\n",
    "    plt.title(\"Correlation Heatmap\")\n",
    "    plt.show()\n",
    "\n",
    "def plot_categorical_counts(df: pd.DataFrame, col: str):\n",
    "    plt.figure(figsize=(8, 4))\n",
    "    sns.countplot(data=df, x=col, order=df[col].value_counts().index)\n",
    "    plt.xticks(rotation=45)\n",
    "    plt.title(f\"Count of {col}\")\n",
    "    plt.show()\n",
    "\n",
    "def plot_time_series(df: pd.DataFrame, date_col: str, value_col: str):\n",
    "    df[date_col] = pd.to_datetime(df[date_col])\n",
    "    ts = df.groupby(date_col)[value_col].sum()\n",
    "    plt.figure(figsize=(12, 5))\n",
    "    ts.plot()\n",
    "    plt.title(f\"Time Series of {value_col}\")\n",
    "    plt.xlabel(\"Date\")\n",
    "    plt.ylabel(value_col)\n",
    "    plt.show()"
   ]
  }
 ],
 "metadata": {
  "kernelspec": {
   "display_name": "crp",
   "language": "python",
   "name": "python3"
  },
  "language_info": {
   "codemirror_mode": {
    "name": "ipython",
    "version": 3
   },
   "file_extension": ".py",
   "mimetype": "text/x-python",
   "name": "python",
   "nbconvert_exporter": "python",
   "pygments_lexer": "ipython3",
   "version": "3.13.7"
  }
 },
 "nbformat": 4,
 "nbformat_minor": 5
}
