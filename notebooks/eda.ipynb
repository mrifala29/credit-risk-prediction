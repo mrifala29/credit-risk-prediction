{
 "cells": [
  {
   "cell_type": "code",
   "execution_count": 12,
   "id": "2925c423",
   "metadata": {},
   "outputs": [],
   "source": [
    "import sys\n",
    "import os\n",
    "\n",
    "sys.path.append(os.path.abspath(\"..\"))"
   ]
  },
  {
   "cell_type": "code",
   "execution_count": 13,
   "id": "4076b457",
   "metadata": {},
   "outputs": [],
   "source": [
    "import pandas as pd\n",
    "import matplotlib.pyplot as plt\n",
    "import seaborn as sns\n",
    "from src.data_loader import DataLoader  # <--- pakai class DataLoader"
   ]
  },
  {
   "cell_type": "code",
   "execution_count": 14,
   "id": "840da9c4",
   "metadata": {},
   "outputs": [],
   "source": [
    "def summary_stats(df: pd.DataFrame):\n",
    "    print(\"Shape:\", df.shape)\n",
    "    print(\"\\nInfo:\")\n",
    "    print(df.info())\n",
    "    print(\"\\nMissing values:\")\n",
    "    print(df.isnull().sum())\n",
    "    print(\"\\nDescriptive stats (numerical):\")\n",
    "    print(df.describe().T)\n",
    "\n",
    "def plot_distributions(df: pd.DataFrame, cols: list):\n",
    "    for col in cols:\n",
    "        fig, axes = plt.subplots(1, 2, figsize=(12, 4))\n",
    "        sns.histplot(df[col], kde=True, ax=axes[0])\n",
    "        axes[0].set_title(f\"Distribution of {col}\")\n",
    "        sns.boxplot(x=df[col], ax=axes[1])\n",
    "        axes[1].set_title(f\"Boxplot of {col}\")\n",
    "        plt.tight_layout()\n",
    "        plt.show()\n",
    "\n",
    "def plot_correlation(df: pd.DataFrame):\n",
    "    plt.figure(figsize=(10, 6))\n",
    "    corr = df.corr(numeric_only=True)\n",
    "    sns.heatmap(corr, annot=True, cmap=\"coolwarm\", fmt=\".2f\")\n",
    "    plt.title(\"Correlation Heatmap\")\n",
    "    plt.show()\n",
    "\n",
    "def plot_categorical_counts(df: pd.DataFrame, col: str):\n",
    "    plt.figure(figsize=(8, 4))\n",
    "    sns.countplot(data=df, x=col, order=df[col].value_counts().index)\n",
    "    plt.xticks(rotation=45)\n",
    "    plt.title(f\"Count of {col}\")\n",
    "    plt.show()\n",
    "\n",
    "def plot_time_series(df: pd.DataFrame, date_col: str, value_col: str):\n",
    "    df[date_col] = pd.to_datetime(df[date_col])\n",
    "    ts = df.groupby(date_col)[value_col].sum()\n",
    "    plt.figure(figsize=(12, 5))\n",
    "    ts.plot()\n",
    "    plt.title(f\"Time Series of {value_col}\")\n",
    "    plt.xlabel(\"Date\")\n",
    "    plt.ylabel(value_col)\n",
    "    plt.show()"
   ]
  },
  {
   "cell_type": "code",
   "execution_count": 15,
   "id": "f3aa59c4",
   "metadata": {},
   "outputs": [
    {
     "ename": "FileNotFoundError",
     "evalue": "File data/retail_store_inventory.csv tidak ditemukan",
     "output_type": "error",
     "traceback": [
      "\u001b[31m---------------------------------------------------------------------------\u001b[39m",
      "\u001b[31mFileNotFoundError\u001b[39m                         Traceback (most recent call last)",
      "\u001b[36mCell\u001b[39m\u001b[36m \u001b[39m\u001b[32mIn[15]\u001b[39m\u001b[32m, line 3\u001b[39m\n\u001b[32m      1\u001b[39m \u001b[38;5;28;01mif\u001b[39;00m \u001b[34m__name__\u001b[39m == \u001b[33m\"\u001b[39m\u001b[33m__main__\u001b[39m\u001b[33m\"\u001b[39m:\n\u001b[32m      2\u001b[39m     loader = DataLoader()\n\u001b[32m----> \u001b[39m\u001b[32m3\u001b[39m     df = \u001b[43mloader\u001b[49m\u001b[43m.\u001b[49m\u001b[43mget_data\u001b[49m\u001b[43m(\u001b[49m\u001b[43msource\u001b[49m\u001b[43m=\u001b[49m\u001b[33;43m\"\u001b[39;49m\u001b[33;43mlocal\u001b[39;49m\u001b[33;43m\"\u001b[39;49m\u001b[43m,\u001b[49m\u001b[43m \u001b[49m\u001b[43mfilename\u001b[49m\u001b[43m=\u001b[49m\u001b[33;43m\"\u001b[39;49m\u001b[33;43mretail_store_inventory.csv\u001b[39;49m\u001b[33;43m\"\u001b[39;49m\u001b[43m)\u001b[49m\n\u001b[32m      5\u001b[39m     summary_stats(df)\n\u001b[32m      6\u001b[39m     plot_distributions(df, [\u001b[33m\"\u001b[39m\u001b[33mPrice\u001b[39m\u001b[33m\"\u001b[39m, \u001b[33m\"\u001b[39m\u001b[33mUnits Sold\u001b[39m\u001b[33m\"\u001b[39m, \u001b[33m\"\u001b[39m\u001b[33mInventory Level\u001b[39m\u001b[33m\"\u001b[39m])\n",
      "\u001b[36mFile \u001b[39m\u001b[32mc:\\Users\\M S I\\Desktop\\Project\\credit-risk-prediction\\src\\data_loader.py:22\u001b[39m, in \u001b[36mDataLoader.get_data\u001b[39m\u001b[34m(self, source, **kwargs)\u001b[39m\n\u001b[32m     20\u001b[39m \u001b[38;5;28;01mif\u001b[39;00m source == \u001b[33m\"\u001b[39m\u001b[33mlocal\u001b[39m\u001b[33m\"\u001b[39m:\n\u001b[32m     21\u001b[39m     filename = kwargs.get(\u001b[33m\"\u001b[39m\u001b[33mfilename\u001b[39m\u001b[33m\"\u001b[39m)\n\u001b[32m---> \u001b[39m\u001b[32m22\u001b[39m     \u001b[38;5;28;01mreturn\u001b[39;00m \u001b[38;5;28;43mself\u001b[39;49m\u001b[43m.\u001b[49m\u001b[43mload_csv\u001b[49m\u001b[43m(\u001b[49m\u001b[43mfilename\u001b[49m\u001b[43m)\u001b[49m\n\u001b[32m     23\u001b[39m \u001b[38;5;28;01melse\u001b[39;00m:\n\u001b[32m     24\u001b[39m     \u001b[38;5;28;01mraise\u001b[39;00m \u001b[38;5;167;01mValueError\u001b[39;00m(\u001b[33mf\u001b[39m\u001b[33m\"\u001b[39m\u001b[33mUnknown source: \u001b[39m\u001b[38;5;132;01m{\u001b[39;00msource\u001b[38;5;132;01m}\u001b[39;00m\u001b[33m\"\u001b[39m)\n",
      "\u001b[36mFile \u001b[39m\u001b[32mc:\\Users\\M S I\\Desktop\\Project\\credit-risk-prediction\\src\\data_loader.py:11\u001b[39m, in \u001b[36mDataLoader.load_csv\u001b[39m\u001b[34m(self, filename)\u001b[39m\n\u001b[32m      9\u001b[39m file_path = os.path.join(\u001b[38;5;28mself\u001b[39m.data_dir, filename)\n\u001b[32m     10\u001b[39m \u001b[38;5;28;01mif\u001b[39;00m \u001b[38;5;129;01mnot\u001b[39;00m os.path.exists(file_path):\n\u001b[32m---> \u001b[39m\u001b[32m11\u001b[39m     \u001b[38;5;28;01mraise\u001b[39;00m \u001b[38;5;167;01mFileNotFoundError\u001b[39;00m(\u001b[33mf\u001b[39m\u001b[33m\"\u001b[39m\u001b[33mFile \u001b[39m\u001b[38;5;132;01m{\u001b[39;00mfile_path\u001b[38;5;132;01m}\u001b[39;00m\u001b[33m tidak ditemukan\u001b[39m\u001b[33m\"\u001b[39m)\n\u001b[32m     13\u001b[39m df = pd.read_csv(file_path)\n\u001b[32m     14\u001b[39m \u001b[38;5;28mprint\u001b[39m(\u001b[33mf\u001b[39m\u001b[33m\"\u001b[39m\u001b[33m[INFO] Data loaded: \u001b[39m\u001b[38;5;132;01m{\u001b[39;00mfile_path\u001b[38;5;132;01m}\u001b[39;00m\u001b[33m, shape: \u001b[39m\u001b[38;5;132;01m{\u001b[39;00mdf.shape\u001b[38;5;132;01m}\u001b[39;00m\u001b[33m\"\u001b[39m)\n",
      "\u001b[31mFileNotFoundError\u001b[39m: File data/retail_store_inventory.csv tidak ditemukan"
     ]
    }
   ],
   "source": [
    "if __name__ == \"__main__\":\n",
    "    loader = DataLoader()\n",
    "    df = loader.get_data(source=\"local\", filename=\"retail_store_inventory.csv\")\n",
    "\n",
    "    summary_stats(df)\n",
    "    plot_distributions(df, [\"Price\", \"Units Sold\", \"Inventory Level\"])\n",
    "    plot_correlation(df)\n",
    "    plot_categorical_counts(df, \"Category\")\n",
    "    plot_time_series(df, \"Date\", \"Units Sold\")"
   ]
  },
  {
   "cell_type": "code",
   "execution_count": null,
   "id": "914133d7",
   "metadata": {},
   "outputs": [],
   "source": []
  }
 ],
 "metadata": {
  "kernelspec": {
   "display_name": "crp",
   "language": "python",
   "name": "python3"
  },
  "language_info": {
   "codemirror_mode": {
    "name": "ipython",
    "version": 3
   },
   "file_extension": ".py",
   "mimetype": "text/x-python",
   "name": "python",
   "nbconvert_exporter": "python",
   "pygments_lexer": "ipython3",
   "version": "3.13.7"
  }
 },
 "nbformat": 4,
 "nbformat_minor": 5
}
